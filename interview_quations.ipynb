{
 "cells": [
  {
   "cell_type": "markdown",
   "metadata": {
    "vscode": {
     "languageId": "plaintext"
    }
   },
   "source": [
    "Date: 27/12/2024  \n",
    "Compeny Name: Revrr Technologies  \n",
    "\n",
    "Quation: Identify the first K elements in a list whose frequency is greater than 2.  \n",
    "\n",
    "Case - 1:  \n",
    ">Inputs: nums = [1, 2, 2, 3, 3, 3, 6, 7, 7], k = 2  \n",
    ">Output: [2, 3]  \n",
    ">Explanation: In the given nums list, the elements with a frequency greater than 2 are [2, 3, 7]. Since k = 2, the first two elements [2, 3] are returned as the output.  \n",
    "\n",
    "Case - 2:  \n",
    ">Inputs: nums = [7,7], k = 1  \n",
    ">Output: [7]  "
   ]
  },
  {
   "cell_type": "code",
   "execution_count": 1,
   "metadata": {},
   "outputs": [
    {
     "name": "stdout",
     "output_type": "stream",
     "text": [
      "[2, 3]\n"
     ]
    }
   ],
   "source": [
    "def most_freq(input_list: list, k:int):\n",
    "  \n",
    "  feq_occured_items = []\n",
    "  for i in input_list:\n",
    "    if input_list.count(i) > 1 and i not in feq_occured_items:\n",
    "        feq_occured_items.append(i)\n",
    "        if len(feq_occured_items) == k : break\n",
    "  return feq_occured_items[0:k]\n",
    "  \n",
    "\n",
    "print(most_freq([1,2,2,3,3,3], 2))"
   ]
  }
 ],
 "metadata": {
  "kernelspec": {
   "display_name": "base",
   "language": "python",
   "name": "python3"
  },
  "language_info": {
   "codemirror_mode": {
    "name": "ipython",
    "version": 3
   },
   "file_extension": ".py",
   "mimetype": "text/x-python",
   "name": "python",
   "nbconvert_exporter": "python",
   "pygments_lexer": "ipython3",
   "version": "3.11.7"
  }
 },
 "nbformat": 4,
 "nbformat_minor": 2
}

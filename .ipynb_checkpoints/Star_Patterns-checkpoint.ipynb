{
 "cells": [
  {
   "cell_type": "markdown",
   "id": "9afc87b5-f3d1-45a2-9a90-e20383331ab3",
   "metadata": {},
   "source": [
    "# Star Patterns"
   ]
  },
  {
   "cell_type": "markdown",
   "id": "66fe280c-2db2-4d77-89be-61167aae0bac",
   "metadata": {},
   "source": [
    "## Pattern - 1 * "
   ]
  },
  {
   "cell_type": "code",
   "execution_count": 2,
   "id": "fc01aa86-60b4-4e6d-8119-3382ae437857",
   "metadata": {},
   "outputs": [
    {
     "name": "stdout",
     "output_type": "stream",
     "text": [
      "* * * * \n",
      "* * * * \n",
      "* * * * \n",
      "* * * * \n"
     ]
    }
   ],
   "source": [
    "for clm in range(0, 4):\n",
    "    for row in range(0,4):\n",
    "        print(\"* \", end=\"\")\n",
    "    print()"
   ]
  },
  {
   "cell_type": "code",
   "execution_count": null,
   "id": "5b8d628e-9e6f-45e9-bf25-c5dc2061dd86",
   "metadata": {},
   "outputs": [],
   "source": [
    "for clm in range(0, 10):\n",
    "    for row in range(0,5):\n",
    "        print(\"* \", end=\"\")\n",
    "    print()"
   ]
  }
 ],
 "metadata": {
  "kernelspec": {
   "display_name": "Python 3 (ipykernel)",
   "language": "python",
   "name": "python3"
  },
  "language_info": {
   "codemirror_mode": {
    "name": "ipython",
    "version": 3
   },
   "file_extension": ".py",
   "mimetype": "text/x-python",
   "name": "python",
   "nbconvert_exporter": "python",
   "pygments_lexer": "ipython3",
   "version": "3.11.7"
  }
 },
 "nbformat": 4,
 "nbformat_minor": 5
}
